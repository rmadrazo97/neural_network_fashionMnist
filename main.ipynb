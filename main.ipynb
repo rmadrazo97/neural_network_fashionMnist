{
 "cells": [
  {
   "cell_type": "code",
   "execution_count": 1,
   "metadata": {},
   "outputs": [],
   "source": [
    "import pandas as pd\n",
    "import numpy as np\n",
    "import math"
   ]
  },
  {
   "cell_type": "markdown",
   "metadata": {},
   "source": [
    "## Dataset\n",
    "\n",
    "#### En este laboratorio usaremos un dataset del usuario 'Zalando' en Github. Este data set surge como una alternativa al dataset MNIST tradicional de clasificación de números escritos a mano. Surge con el objetivo de proveer un dataset de \"entrenamiento\" o básico en la industria que se adapte más a las situaciones actuales (muchas imágenes) y que provea un método de entrenamiento más díficil que su antecesor.\n",
    "#### El dataset consiste de 70 mil registros (60mil de entrenamiento y 10mil de testing). Cada record consiste en una imágen de 28X28 pixeles con una categoría asociada que describe el tipo de prenda al que pertenece.  \n",
    "\n",
    "### Labels o Categorias\n",
    "#### Cada record de training y test tienen asignado una de las siguientes etiquetas.:\n",
    "\n",
    "| Etiqueta | Descripción |\n",
    "| --- | --- |\n",
    "| 0 | T-shirt/top |\n",
    "| 1 | Trouser |\n",
    "| 2 | Pullover |\n",
    "| 3 | Dress |\n",
    "| 4 | Coat |\n",
    "| 5 | Sandal |\n",
    "| 6 | Shirt |\n",
    "| 7 | Sneaker |\n",
    "| 8 | Bag |\n",
    "| 9 | Ankle boot |"
   ]
  },
  {
   "cell_type": "code",
   "execution_count": 2,
   "metadata": {},
   "outputs": [],
   "source": [
    "# definiendo la función de activación\n",
    "def sigmoide(x):\n",
    "    return 1.0/(1.0+np.exp(-x))"
   ]
  },
  {
   "cell_type": "code",
   "execution_count": 3,
   "metadata": {},
   "outputs": [
    {
     "name": "stdout",
     "output_type": "stream",
     "text": [
      "0.5\n",
      "0.9990889488055994\n",
      "0.0009110511944006454\n"
     ]
    }
   ],
   "source": [
    "# validando la funcion sigmoide\n",
    "print(sigmoide(0))\n",
    "print(sigmoide(7))\n",
    "print(sigmoide(-7))"
   ]
  },
  {
   "cell_type": "code",
   "execution_count": 4,
   "metadata": {},
   "outputs": [],
   "source": [
    "# derivada de la sigmoide\n",
    "#(e^-x)/(1+e^-x)^2\n",
    "def d_sigmoide(x):\n",
    "    return (np.exp(-x))/((1+np.exp(-x))**2)"
   ]
  },
  {
   "cell_type": "code",
   "execution_count": 5,
   "metadata": {},
   "outputs": [
    {
     "name": "stdout",
     "output_type": "stream",
     "text": [
      "0.25\n",
      "0.0009102211801218265\n",
      "0.0009102211801218265\n"
     ]
    }
   ],
   "source": [
    "# validando la funcion\n",
    "print(d_sigmoide(0))\n",
    "print(d_sigmoide(7))\n",
    "print(d_sigmoide(-7))"
   ]
  },
  {
   "cell_type": "markdown",
   "metadata": {},
   "source": [
    "### Implementación softmax\n",
    "#### permite restringir el resultado de una función entre 0 y 1 para poder usarlo como una probabilidad. Esto nos permite crear una red neuronal multi-clase, ya que no es un resultado binario si no \"probabilistico\" entre múltiples posibles clases"
   ]
  },
  {
   "cell_type": "code",
   "execution_count": 6,
   "metadata": {},
   "outputs": [],
   "source": [
    "def softmax(x_list):\n",
    "    return np.exp(x_list)/np.exp(x_list).sum(0)\n"
   ]
  },
  {
   "cell_type": "code",
   "execution_count": 7,
   "metadata": {},
   "outputs": [
    {
     "data": {
      "text/plain": [
       "array([0.00234065, 0.04701312, 0.00636253, 0.9442837 ])"
      ]
     },
     "execution_count": 7,
     "metadata": {},
     "output_type": "execute_result"
    }
   ],
   "source": [
    "# podemos ver que retorna una probabilidad que premia a los numeros más grandes relativamente.\n",
    "softmax(np.asarray([4,7,5,10]))"
   ]
  },
  {
   "cell_type": "markdown",
   "metadata": {},
   "source": [
    "### inicialización de tethas\n",
    "#### inicializadas con un número random entre 0 y 1"
   ]
  },
  {
   "cell_type": "code",
   "execution_count": 58,
   "metadata": {},
   "outputs": [],
   "source": [
    "def crear_red(outputs, inputs, hidden):\n",
    "    i_hidden = np.random.uniform(0,1,size=(inputs, hidden))\n",
    "    i_output = np.random.uniform(0,1,size=(hidden,outputs))\n",
    "    return i_hidden, i_output"
   ]
  },
  {
   "cell_type": "code",
   "execution_count": 9,
   "metadata": {},
   "outputs": [
    {
     "data": {
      "text/plain": [
       "(array([[0.10993072],\n",
       "        [0.0716494 ],\n",
       "        [0.847462  ],\n",
       "        [0.85494674],\n",
       "        [0.74786923]]), array([[0.44702897, 0.74107434]]))"
      ]
     },
     "execution_count": 9,
     "metadata": {},
     "output_type": "execute_result"
    }
   ],
   "source": [
    "# verificación\n",
    "crear_red(5,1,2)"
   ]
  },
  {
   "cell_type": "markdown",
   "metadata": {},
   "source": [
    "### Backprop implementation\n",
    "### parametros:\n",
    "#### num de inputs, num de neuronas en capa oculta, num de outputs\n",
    "#### num iteraciones, learning rate\n",
    "### Estructura de datos\n",
    "#### Dos listas (Arreglos) X(independientes), y (dependiente-clasificación)"
   ]
  },
  {
   "cell_type": "code",
   "execution_count": 46,
   "metadata": {},
   "outputs": [],
   "source": [
    "def forprop(X,hidden, outputs):\n",
    "    # producto punto de los inputs y la capa oculta\n",
    "    # aplicamos la función sigmoide de activación para obtener los resultados de la capa oculta\n",
    "    activadas = sigmoide(np.dot(X,hidden))\n",
    "\n",
    "    return activadas\n",
    "    \n",
    "def calcular_error(resultado,real):\n",
    "    # simple resta entre 'y' y el resultado obtenido.\n",
    "    error = real - resultado\n",
    "    print ('Error: ',sum(error))\n",
    "    return error"
   ]
  },
  {
   "cell_type": "code",
   "execution_count": 47,
   "metadata": {},
   "outputs": [],
   "source": [
    "#funcion con iteraciones para validad mi backprop\n",
    "def backprop(X, y, hidden, outputs, ite, learning_rate):\n",
    "    for i in range(ite):\n",
    "        # activación y forprop\n",
    "        activadas = forprop(X,hidden, outputs)\n",
    "        resultado = np.dot(activadas, outputs)\n",
    "        error = calcular_error(resultado, y)\n",
    "        \n",
    "        # ---- seccion backprop ----\n",
    "        # con el error obtenido podemos ajustar los pesos bajo el dominio del learning_rate\n",
    "        dz = error * learning_rate\n",
    "        outputs += activadas.T.dot(dz)\n",
    "        dh = dz.dot(outputs.T) * d_sigmoide(activadas)\n",
    "        hidden += X.T.dot(dh)"
   ]
  },
  {
   "cell_type": "code",
   "execution_count": 49,
   "metadata": {
    "collapsed": true,
    "jupyter": {
     "outputs_hidden": true
    }
   },
   "outputs": [
    {
     "name": "stdout",
     "output_type": "stream",
     "text": [
      "Error:  [-3.86332405]\n",
      "Error:  [-1.82497221]\n",
      "Error:  [-0.87601308]\n",
      "Error:  [-0.41750182]\n",
      "Error:  [-0.19292875]\n",
      "Error:  [-0.08230688]\n",
      "Error:  [-0.02767448]\n",
      "Error:  [-0.00066213]\n",
      "Error:  [0.01269784]\n",
      "Error:  [0.01930219]\n",
      "Error:  [0.02256146]\n",
      "Error:  [0.02416365]\n",
      "Error:  [0.0249447]\n",
      "Error:  [0.02531873]\n",
      "Error:  [0.02549099]\n",
      "Error:  [0.0255632]\n",
      "Error:  [0.02558581]\n",
      "Error:  [0.02558386]\n",
      "Error:  [0.02556975]\n",
      "Error:  [0.02554963]\n",
      "Error:  [0.02552658]\n",
      "Error:  [0.02550209]\n",
      "Error:  [0.02547694]\n",
      "Error:  [0.02545149]\n",
      "Error:  [0.02542592]\n",
      "Error:  [0.02540034]\n",
      "Error:  [0.02537477]\n",
      "Error:  [0.02534925]\n",
      "Error:  [0.02532379]\n",
      "Error:  [0.02529839]\n",
      "Error:  [0.02527305]\n",
      "Error:  [0.02524778]\n",
      "Error:  [0.02522257]\n",
      "Error:  [0.02519742]\n",
      "Error:  [0.02517234]\n",
      "Error:  [0.02514732]\n",
      "Error:  [0.02512235]\n",
      "Error:  [0.02509745]\n",
      "Error:  [0.02507261]\n",
      "Error:  [0.02504783]\n",
      "Error:  [0.02502311]\n",
      "Error:  [0.02499844]\n",
      "Error:  [0.02497383]\n",
      "Error:  [0.02494927]\n",
      "Error:  [0.02492478]\n",
      "Error:  [0.02490033]\n",
      "Error:  [0.02487594]\n",
      "Error:  [0.0248516]\n",
      "Error:  [0.02482732]\n",
      "Error:  [0.02480309]\n",
      "Error:  [0.0247789]\n",
      "Error:  [0.02475477]\n",
      "Error:  [0.02473069]\n",
      "Error:  [0.02470666]\n",
      "Error:  [0.02468267]\n",
      "Error:  [0.02465874]\n",
      "Error:  [0.02463485]\n",
      "Error:  [0.024611]\n",
      "Error:  [0.02458721]\n",
      "Error:  [0.02456345]\n",
      "Error:  [0.02453974]\n",
      "Error:  [0.02451608]\n",
      "Error:  [0.02449246]\n",
      "Error:  [0.02446888]\n",
      "Error:  [0.02444534]\n",
      "Error:  [0.02442185]\n",
      "Error:  [0.02439839]\n",
      "Error:  [0.02437498]\n",
      "Error:  [0.0243516]\n",
      "Error:  [0.02432827]\n",
      "Error:  [0.02430497]\n",
      "Error:  [0.02428171]\n",
      "Error:  [0.02425849]\n",
      "Error:  [0.0242353]\n",
      "Error:  [0.02421215]\n",
      "Error:  [0.02418903]\n",
      "Error:  [0.02416595]\n",
      "Error:  [0.02414291]\n",
      "Error:  [0.02411989]\n",
      "Error:  [0.02409691]\n",
      "Error:  [0.02407397]\n",
      "Error:  [0.02405105]\n",
      "Error:  [0.02402817]\n",
      "Error:  [0.02400532]\n",
      "Error:  [0.02398249]\n",
      "Error:  [0.0239597]\n",
      "Error:  [0.02393694]\n",
      "Error:  [0.02391421]\n",
      "Error:  [0.0238915]\n",
      "Error:  [0.02386882]\n",
      "Error:  [0.02384617]\n",
      "Error:  [0.02382355]\n",
      "Error:  [0.02380095]\n",
      "Error:  [0.02377837]\n",
      "Error:  [0.02375583]\n",
      "Error:  [0.0237333]\n",
      "Error:  [0.02371081]\n",
      "Error:  [0.02368833]\n",
      "Error:  [0.02366588]\n",
      "Error:  [0.02364345]\n"
     ]
    }
   ],
   "source": [
    "# probando con un simple XOR\n",
    "X_p = np.array([[0,0], [0,1], [1,0], [1,1]])\n",
    "y_p = np.array([ [0],   [1],   [1],   [0]])\n",
    "\n",
    "p_h, p_o = crear_red(2,3,1)\n",
    "#len(X_p[0])\n",
    "backprop(X_p, y_p, p_h, p_o, 100, 0.1)\n",
    "# podemos ver que el error comeinza a decrecer. "
   ]
  },
  {
   "cell_type": "code",
   "execution_count": 136,
   "metadata": {},
   "outputs": [],
   "source": []
  },
  {
   "cell_type": "markdown",
   "metadata": {},
   "source": [
    "### --- Reading data"
   ]
  },
  {
   "cell_type": "code",
   "execution_count": 31,
   "metadata": {},
   "outputs": [
    {
     "data": {
      "text/html": [
       "<div>\n",
       "<style scoped>\n",
       "    .dataframe tbody tr th:only-of-type {\n",
       "        vertical-align: middle;\n",
       "    }\n",
       "\n",
       "    .dataframe tbody tr th {\n",
       "        vertical-align: top;\n",
       "    }\n",
       "\n",
       "    .dataframe thead th {\n",
       "        text-align: right;\n",
       "    }\n",
       "</style>\n",
       "<table border=\"1\" class=\"dataframe\">\n",
       "  <thead>\n",
       "    <tr style=\"text-align: right;\">\n",
       "      <th></th>\n",
       "      <th>label</th>\n",
       "      <th>pixel1</th>\n",
       "      <th>pixel2</th>\n",
       "      <th>pixel3</th>\n",
       "      <th>pixel4</th>\n",
       "      <th>pixel5</th>\n",
       "      <th>pixel6</th>\n",
       "      <th>pixel7</th>\n",
       "      <th>pixel8</th>\n",
       "      <th>pixel9</th>\n",
       "      <th>...</th>\n",
       "      <th>pixel775</th>\n",
       "      <th>pixel776</th>\n",
       "      <th>pixel777</th>\n",
       "      <th>pixel778</th>\n",
       "      <th>pixel779</th>\n",
       "      <th>pixel780</th>\n",
       "      <th>pixel781</th>\n",
       "      <th>pixel782</th>\n",
       "      <th>pixel783</th>\n",
       "      <th>pixel784</th>\n",
       "    </tr>\n",
       "  </thead>\n",
       "  <tbody>\n",
       "    <tr>\n",
       "      <th>0</th>\n",
       "      <td>2</td>\n",
       "      <td>0</td>\n",
       "      <td>0</td>\n",
       "      <td>0</td>\n",
       "      <td>0</td>\n",
       "      <td>0</td>\n",
       "      <td>0</td>\n",
       "      <td>0</td>\n",
       "      <td>0</td>\n",
       "      <td>0</td>\n",
       "      <td>...</td>\n",
       "      <td>0</td>\n",
       "      <td>0</td>\n",
       "      <td>0</td>\n",
       "      <td>0</td>\n",
       "      <td>0</td>\n",
       "      <td>0</td>\n",
       "      <td>0</td>\n",
       "      <td>0</td>\n",
       "      <td>0</td>\n",
       "      <td>0</td>\n",
       "    </tr>\n",
       "    <tr>\n",
       "      <th>1</th>\n",
       "      <td>9</td>\n",
       "      <td>0</td>\n",
       "      <td>0</td>\n",
       "      <td>0</td>\n",
       "      <td>0</td>\n",
       "      <td>0</td>\n",
       "      <td>0</td>\n",
       "      <td>0</td>\n",
       "      <td>0</td>\n",
       "      <td>0</td>\n",
       "      <td>...</td>\n",
       "      <td>0</td>\n",
       "      <td>0</td>\n",
       "      <td>0</td>\n",
       "      <td>0</td>\n",
       "      <td>0</td>\n",
       "      <td>0</td>\n",
       "      <td>0</td>\n",
       "      <td>0</td>\n",
       "      <td>0</td>\n",
       "      <td>0</td>\n",
       "    </tr>\n",
       "    <tr>\n",
       "      <th>2</th>\n",
       "      <td>6</td>\n",
       "      <td>0</td>\n",
       "      <td>0</td>\n",
       "      <td>0</td>\n",
       "      <td>0</td>\n",
       "      <td>0</td>\n",
       "      <td>0</td>\n",
       "      <td>0</td>\n",
       "      <td>5</td>\n",
       "      <td>0</td>\n",
       "      <td>...</td>\n",
       "      <td>0</td>\n",
       "      <td>0</td>\n",
       "      <td>0</td>\n",
       "      <td>30</td>\n",
       "      <td>43</td>\n",
       "      <td>0</td>\n",
       "      <td>0</td>\n",
       "      <td>0</td>\n",
       "      <td>0</td>\n",
       "      <td>0</td>\n",
       "    </tr>\n",
       "    <tr>\n",
       "      <th>3</th>\n",
       "      <td>0</td>\n",
       "      <td>0</td>\n",
       "      <td>0</td>\n",
       "      <td>0</td>\n",
       "      <td>1</td>\n",
       "      <td>2</td>\n",
       "      <td>0</td>\n",
       "      <td>0</td>\n",
       "      <td>0</td>\n",
       "      <td>0</td>\n",
       "      <td>...</td>\n",
       "      <td>3</td>\n",
       "      <td>0</td>\n",
       "      <td>0</td>\n",
       "      <td>0</td>\n",
       "      <td>0</td>\n",
       "      <td>1</td>\n",
       "      <td>0</td>\n",
       "      <td>0</td>\n",
       "      <td>0</td>\n",
       "      <td>0</td>\n",
       "    </tr>\n",
       "    <tr>\n",
       "      <th>4</th>\n",
       "      <td>3</td>\n",
       "      <td>0</td>\n",
       "      <td>0</td>\n",
       "      <td>0</td>\n",
       "      <td>0</td>\n",
       "      <td>0</td>\n",
       "      <td>0</td>\n",
       "      <td>0</td>\n",
       "      <td>0</td>\n",
       "      <td>0</td>\n",
       "      <td>...</td>\n",
       "      <td>0</td>\n",
       "      <td>0</td>\n",
       "      <td>0</td>\n",
       "      <td>0</td>\n",
       "      <td>0</td>\n",
       "      <td>0</td>\n",
       "      <td>0</td>\n",
       "      <td>0</td>\n",
       "      <td>0</td>\n",
       "      <td>0</td>\n",
       "    </tr>\n",
       "  </tbody>\n",
       "</table>\n",
       "<p>5 rows × 785 columns</p>\n",
       "</div>"
      ],
      "text/plain": [
       "   label  pixel1  pixel2  pixel3  pixel4  pixel5  pixel6  pixel7  pixel8  \\\n",
       "0      2       0       0       0       0       0       0       0       0   \n",
       "1      9       0       0       0       0       0       0       0       0   \n",
       "2      6       0       0       0       0       0       0       0       5   \n",
       "3      0       0       0       0       1       2       0       0       0   \n",
       "4      3       0       0       0       0       0       0       0       0   \n",
       "\n",
       "   pixel9  ...  pixel775  pixel776  pixel777  pixel778  pixel779  pixel780  \\\n",
       "0       0  ...         0         0         0         0         0         0   \n",
       "1       0  ...         0         0         0         0         0         0   \n",
       "2       0  ...         0         0         0        30        43         0   \n",
       "3       0  ...         3         0         0         0         0         1   \n",
       "4       0  ...         0         0         0         0         0         0   \n",
       "\n",
       "   pixel781  pixel782  pixel783  pixel784  \n",
       "0         0         0         0         0  \n",
       "1         0         0         0         0  \n",
       "2         0         0         0         0  \n",
       "3         0         0         0         0  \n",
       "4         0         0         0         0  \n",
       "\n",
       "[5 rows x 785 columns]"
      ]
     },
     "execution_count": 31,
     "metadata": {},
     "output_type": "execute_result"
    }
   ],
   "source": [
    "# training data\n",
    "train = pd.read_csv('./data/fashion-mnist_train.csv')\n",
    "train.head()"
   ]
  },
  {
   "cell_type": "code",
   "execution_count": 32,
   "metadata": {},
   "outputs": [],
   "source": [
    "train_y = train.pop('label')"
   ]
  },
  {
   "cell_type": "code",
   "execution_count": 33,
   "metadata": {},
   "outputs": [],
   "source": [
    "# slicing data (Too large)\n",
    "half = int(len(train['pixel1'])/2)\n",
    "train_X1 = train[:half]\n",
    "train_X2 = train[half:]"
   ]
  },
  {
   "cell_type": "code",
   "execution_count": 34,
   "metadata": {},
   "outputs": [],
   "source": [
    "train_y1 = train[:half]\n",
    "train_y2 = train[half:]"
   ]
  },
  {
   "cell_type": "code",
   "execution_count": null,
   "metadata": {},
   "outputs": [],
   "source": []
  },
  {
   "cell_type": "code",
   "execution_count": 50,
   "metadata": {},
   "outputs": [],
   "source": [
    "trainX1 = train_X1.values.tolist()\n",
    "trainX2 = train_X2.values.tolist()"
   ]
  },
  {
   "cell_type": "code",
   "execution_count": 51,
   "metadata": {},
   "outputs": [],
   "source": [
    "trainy1 = train_y1.values.tolist()\n",
    "trainy2 = train_y2.values.tolist()"
   ]
  },
  {
   "cell_type": "code",
   "execution_count": null,
   "metadata": {},
   "outputs": [],
   "source": []
  },
  {
   "cell_type": "code",
   "execution_count": 59,
   "metadata": {},
   "outputs": [],
   "source": [
    "HL, OL = crear_red(10,784, 50)"
   ]
  },
  {
   "cell_type": "code",
   "execution_count": 60,
   "metadata": {},
   "outputs": [
    {
     "ename": "ValueError",
     "evalue": "operands could not be broadcast together with shapes (30000,784) (30000,10) ",
     "output_type": "error",
     "traceback": [
      "\u001b[0;31m---------------------------------------------------------------------------\u001b[0m",
      "\u001b[0;31mValueError\u001b[0m                                Traceback (most recent call last)",
      "\u001b[0;32m<ipython-input-60-e0399172beb0>\u001b[0m in \u001b[0;36m<module>\u001b[0;34m\u001b[0m\n\u001b[0;32m----> 1\u001b[0;31m \u001b[0mbackprop\u001b[0m\u001b[0;34m(\u001b[0m\u001b[0mtrainX1\u001b[0m\u001b[0;34m,\u001b[0m \u001b[0mtrainy1\u001b[0m\u001b[0;34m,\u001b[0m \u001b[0mHL\u001b[0m\u001b[0;34m,\u001b[0m \u001b[0mOL\u001b[0m\u001b[0;34m,\u001b[0m \u001b[0;36m1000\u001b[0m\u001b[0;34m,\u001b[0m \u001b[0;36m0.1\u001b[0m\u001b[0;34m)\u001b[0m\u001b[0;34m\u001b[0m\u001b[0m\n\u001b[0m",
      "\u001b[0;32m<ipython-input-47-c662a74844c4>\u001b[0m in \u001b[0;36mbackprop\u001b[0;34m(X, y, hidden, outputs, ite, learning_rate)\u001b[0m\n\u001b[1;32m      5\u001b[0m         \u001b[0mactivadas\u001b[0m \u001b[0;34m=\u001b[0m \u001b[0mforprop\u001b[0m\u001b[0;34m(\u001b[0m\u001b[0mX\u001b[0m\u001b[0;34m,\u001b[0m\u001b[0mhidden\u001b[0m\u001b[0;34m,\u001b[0m \u001b[0moutputs\u001b[0m\u001b[0;34m)\u001b[0m\u001b[0;34m\u001b[0m\u001b[0m\n\u001b[1;32m      6\u001b[0m         \u001b[0mresultado\u001b[0m \u001b[0;34m=\u001b[0m \u001b[0mnp\u001b[0m\u001b[0;34m.\u001b[0m\u001b[0mdot\u001b[0m\u001b[0;34m(\u001b[0m\u001b[0mactivadas\u001b[0m\u001b[0;34m,\u001b[0m \u001b[0moutputs\u001b[0m\u001b[0;34m)\u001b[0m\u001b[0;34m\u001b[0m\u001b[0m\n\u001b[0;32m----> 7\u001b[0;31m         \u001b[0merror\u001b[0m \u001b[0;34m=\u001b[0m \u001b[0mcalcular_error\u001b[0m\u001b[0;34m(\u001b[0m\u001b[0mresultado\u001b[0m\u001b[0;34m,\u001b[0m \u001b[0my\u001b[0m\u001b[0;34m)\u001b[0m\u001b[0;34m\u001b[0m\u001b[0m\n\u001b[0m\u001b[1;32m      8\u001b[0m \u001b[0;34m\u001b[0m\u001b[0m\n\u001b[1;32m      9\u001b[0m         \u001b[0;31m# ---- seccion backprop ----\u001b[0m\u001b[0;34m\u001b[0m\u001b[0;34m\u001b[0m\u001b[0m\n",
      "\u001b[0;32m<ipython-input-46-a2add8f3e76a>\u001b[0m in \u001b[0;36mcalcular_error\u001b[0;34m(resultado, real)\u001b[0m\n\u001b[1;32m      8\u001b[0m \u001b[0;32mdef\u001b[0m \u001b[0mcalcular_error\u001b[0m\u001b[0;34m(\u001b[0m\u001b[0mresultado\u001b[0m\u001b[0;34m,\u001b[0m\u001b[0mreal\u001b[0m\u001b[0;34m)\u001b[0m\u001b[0;34m:\u001b[0m\u001b[0;34m\u001b[0m\u001b[0m\n\u001b[1;32m      9\u001b[0m     \u001b[0;31m# simple resta entre 'y' y el resultado obtenido.\u001b[0m\u001b[0;34m\u001b[0m\u001b[0;34m\u001b[0m\u001b[0m\n\u001b[0;32m---> 10\u001b[0;31m     \u001b[0merror\u001b[0m \u001b[0;34m=\u001b[0m \u001b[0mreal\u001b[0m \u001b[0;34m-\u001b[0m \u001b[0mresultado\u001b[0m\u001b[0;34m\u001b[0m\u001b[0m\n\u001b[0m\u001b[1;32m     11\u001b[0m     \u001b[0mprint\u001b[0m \u001b[0;34m(\u001b[0m\u001b[0;34m'Error: '\u001b[0m\u001b[0;34m,\u001b[0m\u001b[0msum\u001b[0m\u001b[0;34m(\u001b[0m\u001b[0merror\u001b[0m\u001b[0;34m)\u001b[0m\u001b[0;34m)\u001b[0m\u001b[0;34m\u001b[0m\u001b[0m\n\u001b[1;32m     12\u001b[0m     \u001b[0;32mreturn\u001b[0m \u001b[0merror\u001b[0m\u001b[0;34m\u001b[0m\u001b[0m\n",
      "\u001b[0;31mValueError\u001b[0m: operands could not be broadcast together with shapes (30000,784) (30000,10) "
     ]
    }
   ],
   "source": [
    "backprop(trainX1, trainy1, HL, OL, 1000, 0.1)"
   ]
  }
 ],
 "metadata": {
  "kernelspec": {
   "display_name": "Python 3",
   "language": "python",
   "name": "python3"
  },
  "language_info": {
   "codemirror_mode": {
    "name": "ipython",
    "version": 3
   },
   "file_extension": ".py",
   "mimetype": "text/x-python",
   "name": "python",
   "nbconvert_exporter": "python",
   "pygments_lexer": "ipython3",
   "version": "3.5.3"
  }
 },
 "nbformat": 4,
 "nbformat_minor": 4
}
