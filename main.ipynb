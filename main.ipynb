{
 "cells": [
  {
   "cell_type": "code",
   "execution_count": 5,
   "metadata": {},
   "outputs": [],
   "source": [
    "import pandas as pd\n",
    "import numpy as np\n",
    "import math"
   ]
  },
  {
   "cell_type": "markdown",
   "metadata": {},
   "source": [
    "## Dataset\n",
    "\n",
    "#### En este laboratorio usaremos un dataset del usuario 'Zalando' en Github. Este data set surge como una alternativa al dataset MNIST tradicional de clasificación de números escritos a mano. Surge con el objetivo de proveer un dataset de \"entrenamiento\" o básico en la industria que se adapte más a las situaciones actuales (muchas imágenes) y que provea un método de entrenamiento más díficil que su antecesor.\n",
    "#### El dataset consiste de 70 mil registros (60mil de entrenamiento y 10mil de testing). Cada record consiste en una imágen de 28X28 pixeles con una categoría asociada que describe el tipo de prenda al que pertenece.  \n",
    "\n",
    "### Labels o Categorias\n",
    "#### Cada record de training y test tienen asignado una de las siguientes etiquetas.:\n",
    "\n",
    "| Etiqueta | Descripción |\n",
    "| --- | --- |\n",
    "| 0 | T-shirt/top |\n",
    "| 1 | Trouser |\n",
    "| 2 | Pullover |\n",
    "| 3 | Dress |\n",
    "| 4 | Coat |\n",
    "| 5 | Sandal |\n",
    "| 6 | Shirt |\n",
    "| 7 | Sneaker |\n",
    "| 8 | Bag |\n",
    "| 9 | Ankle boot |"
   ]
  },
  {
   "cell_type": "code",
   "execution_count": 15,
   "metadata": {},
   "outputs": [],
   "source": [
    "# definiendo la función de activación\n",
    "def sigmoide(x):\n",
    "    return 1.0/(1.0+np.exp(-x))"
   ]
  },
  {
   "cell_type": "code",
   "execution_count": 19,
   "metadata": {},
   "outputs": [
    {
     "name": "stdout",
     "output_type": "stream",
     "text": [
      "0.5\n",
      "0.9990889488055994\n",
      "0.0009110511944006454\n"
     ]
    }
   ],
   "source": [
    "# validando la funcion sigmoide\n",
    "print(sigmoide(0))\n",
    "print(sigmoide(7))\n",
    "print(sigmoide(-7))"
   ]
  },
  {
   "cell_type": "code",
   "execution_count": 51,
   "metadata": {},
   "outputs": [],
   "source": [
    "# derivada de la sigmoide\n",
    "#(e^-x)/(1+e^-x)^2\n",
    "def d_sigmoide(x):\n",
    "    return (np.exp(-x))/((1+np.exp(-x))**2)"
   ]
  },
  {
   "cell_type": "code",
   "execution_count": 59,
   "metadata": {},
   "outputs": [
    {
     "name": "stdout",
     "output_type": "stream",
     "text": [
      "0.25\n",
      "0.0009102211801218265\n",
      "0.0009102211801218265\n"
     ]
    }
   ],
   "source": [
    "# validando la funcion\n",
    "print(d_sigmoide(0))\n",
    "print(d_sigmoide(7))\n",
    "print(d_sigmoide(-7))"
   ]
  },
  {
   "cell_type": "markdown",
   "metadata": {},
   "source": [
    "### Implementación softmax\n",
    "#### permite restringir el resultado de una función entre 0 y 1 para poder usarlo como una probabilidad. Esto nos permite crear una red neuronal multi-clase, ya que no es un resultado binario si no \"probabilistico\" entre múltiples posibles clases"
   ]
  },
  {
   "cell_type": "code",
   "execution_count": 87,
   "metadata": {},
   "outputs": [],
   "source": [
    "def softmax(x_list):\n",
    "    return np.exp(x_list)/np.exp(x_list).sum(0)\n"
   ]
  },
  {
   "cell_type": "code",
   "execution_count": 88,
   "metadata": {},
   "outputs": [
    {
     "data": {
      "text/plain": [
       "array([0.00234065, 0.04701312, 0.00636253, 0.9442837 ])"
      ]
     },
     "execution_count": 88,
     "metadata": {},
     "output_type": "execute_result"
    }
   ],
   "source": [
    "# podemos ver que retorna una probabilidad que premia a los numeros más grandes relativamente.\n",
    "softmax(np.asarray([4,7,5,10]))"
   ]
  },
  {
   "cell_type": "markdown",
   "metadata": {},
   "source": [
    "### inicialización de tethas\n",
    "#### inicializadas con un número random entre 0 y 1"
   ]
  },
  {
   "cell_type": "code",
   "execution_count": 91,
   "metadata": {},
   "outputs": [],
   "source": [
    "def crear_red(inputs, hidden, outputs):\n",
    "    th_hidden = np.random.uniform(0,1,size=(inputs,hidden))\n",
    "    th_output = np.random.uniform(0,1,size=(hidden,outputs))\n",
    "    return th_hidden, th_output"
   ]
  },
  {
   "cell_type": "code",
   "execution_count": 97,
   "metadata": {},
   "outputs": [
    {
     "data": {
      "text/plain": [
       "(array([[0.16524729],\n",
       "        [0.38262104],\n",
       "        [0.90522362],\n",
       "        [0.9103053 ],\n",
       "        [0.69926676]]), array([[0.41202189, 0.52382777]]))"
      ]
     },
     "execution_count": 97,
     "metadata": {},
     "output_type": "execute_result"
    }
   ],
   "source": [
    "crear_red(5,1,2)"
   ]
  },
  {
   "cell_type": "markdown",
   "metadata": {},
   "source": [
    "### Backprop\n",
    "### parametros:\n",
    "#### num de inputs, num de neuronas en capa oculta, num de outputs\n",
    "#### num iteraciones, learning rate"
   ]
  },
  {
   "cell_type": "code",
   "execution_count": null,
   "metadata": {},
   "outputs": [],
   "source": []
  }
 ],
 "metadata": {
  "kernelspec": {
   "display_name": "Python 3",
   "language": "python",
   "name": "python3"
  },
  "language_info": {
   "codemirror_mode": {
    "name": "ipython",
    "version": 3
   },
   "file_extension": ".py",
   "mimetype": "text/x-python",
   "name": "python",
   "nbconvert_exporter": "python",
   "pygments_lexer": "ipython3",
   "version": "3.5.3"
  }
 },
 "nbformat": 4,
 "nbformat_minor": 4
}
